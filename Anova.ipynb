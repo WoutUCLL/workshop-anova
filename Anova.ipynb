{
 "cells": [
  {
   "cell_type": "markdown",
   "id": "5b654e31",
   "metadata": {},
   "source": [
    "# One-way ANOVA: Car oil"
   ]
  },
  {
   "cell_type": "markdown",
   "id": "8f495cc3",
   "metadata": {},
   "source": [
    "Researchers took 20 cars of the same to take part in a study. These cars are randomly doped with one of the four-engine oils and allowed to run freely for 100 kilometers each. At the end of the journey, the performance of each of the cars is noted."
   ]
  }
 ],
 "metadata": {
  "kernelspec": {
   "display_name": "Python 3 (ipykernel)",
   "language": "python",
   "name": "python3"
  },
  "language_info": {
   "codemirror_mode": {
    "name": "ipython",
    "version": 3
   },
   "file_extension": ".py",
   "mimetype": "text/x-python",
   "name": "python",
   "nbconvert_exporter": "python",
   "pygments_lexer": "ipython3",
   "version": "3.11.5"
  }
 },
 "nbformat": 4,
 "nbformat_minor": 5
}
