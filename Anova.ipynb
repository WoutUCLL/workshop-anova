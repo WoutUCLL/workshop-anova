{
 "cells": [
  {
   "cell_type": "markdown",
   "id": "5b654e31",
   "metadata": {},
   "source": [
    "# One-way ANOVA: Car oil"
   ]
  },
  {
   "cell_type": "markdown",
   "id": "8f495cc3",
   "metadata": {},
   "source": [
    "Researchers took 20 cars of the same to take part in a study. These cars are randomly doped with one of the four-engine oils and allowed to run freely for 100 kilometers each. At the end of the journey, the performance of each of the cars is noted."
   ]
  },
  {
   "cell_type": "code",
   "execution_count": null,
   "id": "c1fe8dc5",
   "metadata": {},
   "outputs": [],
   "source": [
    "#install scipy\n",
    "#install pandas\n",
    "#install numpy\n",
    "\n",
    "import matplotlib.pyplot as plt\n",
    "import pandas as pd\n",
    "import numpy as np"
   ]
  },
  {
   "cell_type": "markdown",
   "id": "ef8a5ee1",
   "metadata": {},
   "source": [
    "### This is the data of 4 performances with 4 different oils"
   ]
  },
  {
   "cell_type": "code",
   "execution_count": null,
   "id": "ba2950f4",
   "metadata": {},
   "outputs": [],
   "source": [
    "performance1 = [89, 89, 88, 78, 79]\n",
    "performance2 = [93, 92, 94, 89, 88]\n",
    "performance3 = [89, 88, 89, 93, 90]\n",
    "performance4 = [81, 78, 81, 92, 82]\n",
    "\n",
    "performances_df = pd.DataFrame([performance1, performance2, performance3, performance4],index=[\"oil1\", \"oil2\", \"oil3\", \"oil4\"])\n",
    "performances_df = performances_df.transpose()\n",
    "print(performances_df)"
   ]
  },
  {
   "cell_type": "markdown",
   "id": "4c875a6e",
   "metadata": {},
   "source": [
    "### Calculate overal mean\n",
    "the total mean is the same as the mean of the 4 sample means "
   ]
  },
  {
   "cell_type": "code",
   "execution_count": null,
   "id": "e0b1291d",
   "metadata": {},
   "outputs": [],
   "source": [
    "means_of_samples = performances_df.mean()\n",
    "total_mean = means_of_samples.____()\n",
    "print(means_of_samples)\n",
    "print(f\"total mean: {total_mean}\")"
   ]
  },
  {
   "cell_type": "markdown",
   "id": "a74f48b1",
   "metadata": {},
   "source": [
    "### Calculate SST\n",
    "The SST is the sum of all squared differences between the mean of a sample and the individual values in that sample. It is represented mathematically with the formula:\n",
    "![SST formula](img/sst-formula.png)"
   ]
  },
  {
   "cell_type": "code",
   "execution_count": null,
   "id": "d8bcc045",
   "metadata": {},
   "outputs": [],
   "source": [
    "performances_df[\"SST_1\"] = (performances_df[\"oil1\"]-____)**2\n",
    "performances_df[\"SST_2\"] = (performances_df[\"oil2\"]-____)**2\n",
    "performances_df[\"SST_3\"] = (performances_df[\"oil3\"]-____)**2\n",
    "performances_df[\"SST_4\"] = (performances_df[\"oil4\"]-____)**2\n",
    "\n",
    "SST = np.sum(performances_df[[\"SST_1\", \"SST_2\", \"SST_3\", \"SST_4\"]].sum(axis=\"index\"))\n",
    "\n",
    "print(SST)\n"
   ]
  },
  {
   "cell_type": "markdown",
   "id": "fb5cb3f5",
   "metadata": {},
   "source": [
    "### Calculate SSW\n",
    "The SSW is the sum of squared differences between a value and its sample mean for all values. \n",
    "![SSW formula](img/ssw-formula.png)"
   ]
  },
  {
   "cell_type": "code",
   "execution_count": null,
   "id": "5c77fc83",
   "metadata": {},
   "outputs": [],
   "source": [
    "performances_df[\"SSW_1\"] = (performances_df[\"oil1\"]-____[\"oil1\"])**2\n",
    "performances_df[\"SSW_2\"] = (performances_df[\"oil2\"]-____[\"oil2\"])**2\n",
    "performances_df[\"SSW_3\"] = (performances_df[\"oil3\"]-____[\"oil3\"])**2\n",
    "performances_df[\"SSW_4\"] = (performances_df[\"oil4\"]-____[\"oil4\"])**2\n",
    "\n",
    "SSW = np.sum(performances_df[[\"SSW_1\", \"SSW_2\", \"SSW_3\", \"SSW_4\"]].sum(axis=\"index\"))\n",
    "\n",
    "print(SSW)"
   ]
  },
  {
   "cell_type": "markdown",
   "id": "d55264de",
   "metadata": {},
   "source": [
    "### Calculate SSB\n",
    "The SSB is the sum of squared differences between a value and the grand mean, the mean of all values regardless of sample, for all values.\n",
    "![SSB formula](img/ssb-formula.png)\n"
   ]
  },
  {
   "cell_type": "code",
   "execution_count": null,
   "id": "256ef4f8",
   "metadata": {},
   "outputs": [],
   "source": [
    "performances_df[\"SSB_1\"] = (means_of_samples[\"oil1\"]-____)**2\n",
    "performances_df[\"SSB_2\"] = (means_of_samples[\"oil2\"]-____)**2\n",
    "performances_df[\"SSB_3\"] = (means_of_samples[\"oil3\"]-____)**2\n",
    "performances_df[\"SSB_4\"] = (means_of_samples[\"oil4\"]-____)**2\n",
    "\n",
    "SSB = np.sum(performances_df[[\"SSB_1\", \"SSB_2\", \"SSB_3\", \"SSB_4\"]].sum(axis=\"index\"))\n",
    "\n",
    "print(SSB)\n",
    "print(performances_df)"
   ]
  },
  {
   "cell_type": "markdown",
   "id": "95d5fe28",
   "metadata": {},
   "source": [
    "### F - Statistic"
   ]
  },
  {
   "cell_type": "code",
   "execution_count": null,
   "id": "31af6a5b",
   "metadata": {},
   "outputs": [],
   "source": [
    "# number of measurements per group\n",
    "n = 5\n",
    "\n",
    "# number of groups compared\n",
    "m = 4\n",
    "\n",
    "#    variance between / variance within\n",
    "#    a large F indicates a differce between the means in the populations\n",
    "F = (___ / (m-1))/(___ / (m * (n-1)))\n",
    "\n",
    "print(F)\n"
   ]
  },
  {
   "cell_type": "markdown",
   "id": "3fb6c6de",
   "metadata": {},
   "source": [
    "### Conclusion"
   ]
  },
  {
   "cell_type": "code",
   "execution_count": null,
   "id": "d35f3826",
   "metadata": {},
   "outputs": [],
   "source": [
    "from scipy.stats import f\n",
    "\n",
    "p_value = f.sf(____, m-1, m * (n-1))\n",
    "\n",
    "print(p_value)"
   ]
  },
  {
   "cell_type": "markdown",
   "id": "d56dd359",
   "metadata": {},
   "source": [
    "#### The p value is less than 0.05, so we may reject the null hypothesis with a significance level of 0.05"
   ]
  },
  {
   "cell_type": "markdown",
   "id": "5e5e9d95",
   "metadata": {},
   "source": [
    "### Tip! we could have done it in 5 lines of code as well"
   ]
  },
  {
   "cell_type": "code",
   "execution_count": null,
   "id": "f8ad19f1",
   "metadata": {},
   "outputs": [],
   "source": [
    "\n",
    "from scipy.stats import f_oneway\n",
    " \n",
    "performance1 = [89, 89, 88, 78, 79]\n",
    "performance2 = [93, 92, 94, 89, 88]\n",
    "performance3 = [89, 88, 89, 93, 90]\n",
    "performance4 = [81, 78, 81, 92, 82]\n",
    " \n",
    "f_oneway(performance1, performance2, performance3, performance4)\n"
   ]
  },
  {
   "cell_type": "markdown",
   "id": "d39a312c",
   "metadata": {},
   "source": [
    "data from: https://www.geeksforgeeks.org/how-to-perform-a-one-way-anova-in-python/\n",
    " "
   ]
  }
 ],
 "metadata": {
  "kernelspec": {
   "display_name": "Python 3 (ipykernel)",
   "language": "python",
   "name": "python3"
  },
  "language_info": {
   "codemirror_mode": {
    "name": "ipython",
    "version": 3
   },
   "file_extension": ".py",
   "mimetype": "text/x-python",
   "name": "python",
   "nbconvert_exporter": "python",
   "pygments_lexer": "ipython3",
   "version": "3.11.5"
  }
 },
 "nbformat": 4,
 "nbformat_minor": 5
}
