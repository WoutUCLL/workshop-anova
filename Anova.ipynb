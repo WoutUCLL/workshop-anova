{
 "cells": [
  {
   "cell_type": "markdown",
   "id": "5b654e31",
   "metadata": {},
   "source": [
    "# One-way ANOVA: Car oil"
   ]
  },
  {
   "cell_type": "markdown",
   "id": "8f495cc3",
   "metadata": {},
   "source": [
    "Researchers took 20 cars of the same to take part in a study. These cars are randomly doped with one of the four-engine oils and allowed to run freely for 100 kilometers each. At the end of the journey, the performance of each of the cars is noted."
   ]
  },
  {
   "cell_type": "code",
   "execution_count": 1,
   "id": "c1fe8dc5",
   "metadata": {},
   "outputs": [],
   "source": [
    "#install scipy\n",
    "#install pandas\n",
    "#install numpy\n",
    "\n",
    "import matplotlib.pyplot as plt\n",
    "import pandas as pd\n",
    "import numpy as np"
   ]
  },
  {
   "cell_type": "markdown",
   "id": "ef8a5ee1",
   "metadata": {},
   "source": [
    "### This is the data of 4 performances with 4 different oils"
   ]
  },
  {
   "cell_type": "code",
   "execution_count": 2,
   "id": "ba2950f4",
   "metadata": {},
   "outputs": [
    {
     "name": "stdout",
     "output_type": "stream",
     "text": [
      "   oil1  oil2  oil3  oil4\n",
      "0    89    93    89    81\n",
      "1    89    92    88    78\n",
      "2    88    94    89    81\n",
      "3    78    89    93    92\n",
      "4    79    88    90    82\n"
     ]
    }
   ],
   "source": [
    "performance1 = [89, 89, 88, 78, 79]\n",
    "performance2 = [93, 92, 94, 89, 88]\n",
    "performance3 = [89, 88, 89, 93, 90]\n",
    "performance4 = [81, 78, 81, 92, 82]\n",
    "\n",
    "performances_df = pd.DataFrame([performance1, performance2, performance3, performance4],index=[\"oil1\", \"oil2\", \"oil3\", \"oil4\"])\n",
    "performances_df = performances_df.transpose()\n",
    "print(performances_df)"
   ]
  },
  {
   "cell_type": "markdown",
   "id": "4c875a6e",
   "metadata": {},
   "source": [
    "### Calculate overal mean\n",
    "the total mean is the same as the mean of the 4 sample means "
   ]
  },
  {
   "cell_type": "code",
   "execution_count": 3,
   "id": "e0b1291d",
   "metadata": {},
   "outputs": [
    {
     "name": "stdout",
     "output_type": "stream",
     "text": [
      "oil1    84.6\n",
      "oil2    91.2\n",
      "oil3    89.8\n",
      "oil4    82.8\n",
      "dtype: float64\n",
      "total mean: 87.10000000000001\n"
     ]
    }
   ],
   "source": [
    "means_of_samples = performances_df.mean()\n",
    "total_mean = means_of_samples.____()\n",
    "print(means_of_samples)\n",
    "print(f\"total mean: {total_mean}\")"
   ]
  },
  {
   "cell_type": "markdown",
   "id": "a74f48b1",
   "metadata": {},
   "source": [
    "### Calculate SST"
   ]
  },
  {
   "cell_type": "code",
   "execution_count": 4,
   "id": "d8bcc045",
   "metadata": {},
   "outputs": [
    {
     "name": "stdout",
     "output_type": "stream",
     "text": [
      "525.8\n"
     ]
    }
   ],
   "source": [
    "performances_df[\"SST_1\"] = (performances_df[\"oil1\"]-____)**2\n",
    "performances_df[\"SST_2\"] = (performances_df[\"oil2\"]-____)**2\n",
    "performances_df[\"SST_3\"] = (performances_df[\"oil3\"]-____)**2\n",
    "performances_df[\"SST_4\"] = (performances_df[\"oil4\"]-____)**2\n",
    "\n",
    "SST = np.sum(performances_df[[\"SST_1\", \"SST_2\", \"SST_3\", \"SST_4\"]].sum(axis=\"index\"))\n",
    "\n",
    "print(SST)\n"
   ]
  },
  {
   "cell_type": "markdown",
   "id": "fb5cb3f5",
   "metadata": {},
   "source": [
    "### Calculate SSW"
   ]
  },
  {
   "cell_type": "code",
   "execution_count": 5,
   "id": "5c77fc83",
   "metadata": {},
   "outputs": [
    {
     "name": "stdout",
     "output_type": "stream",
     "text": [
      "281.6\n"
     ]
    }
   ],
   "source": [
    "performances_df[\"SSW_1\"] = (performances_df[\"oil1\"]-____[\"oil1\"])**2\n",
    "performances_df[\"SSW_2\"] = (performances_df[\"oil2\"]-____[\"oil2\"])**2\n",
    "performances_df[\"SSW_3\"] = (performances_df[\"oil3\"]-____[\"oil3\"])**2\n",
    "performances_df[\"SSW_4\"] = (performances_df[\"oil4\"]-____[\"oil4\"])**2\n",
    "\n",
    "SSW = np.sum(performances_df[[\"SSW_1\", \"SSW_2\", \"SSW_3\", \"SSW_4\"]].sum(axis=\"index\"))\n",
    "\n",
    "print(SSW)"
   ]
  },
  {
   "cell_type": "markdown",
   "id": "d55264de",
   "metadata": {},
   "source": [
    "### Calculate SSB"
   ]
  },
  {
   "cell_type": "code",
   "execution_count": 6,
   "id": "256ef4f8",
   "metadata": {},
   "outputs": [
    {
     "name": "stdout",
     "output_type": "stream",
     "text": [
      "244.20000000000027\n",
      "   oil1  oil2  oil3  oil4  SST_1  SST_2  SST_3  SST_4  SSW_1  SSW_2  SSW_3  \\\n",
      "0    89    93    89    81   3.61  34.81   3.61  37.21  19.36   3.24   0.64   \n",
      "1    89    92    88    78   3.61  24.01   0.81  82.81  19.36   0.64   3.24   \n",
      "2    88    94    89    81   0.81  47.61   3.61  37.21  11.56   7.84   0.64   \n",
      "3    78    89    93    92  82.81   3.61  34.81  24.01  43.56   4.84  10.24   \n",
      "4    79    88    90    82  65.61   0.81   8.41  26.01  31.36  10.24   0.04   \n",
      "\n",
      "   SSW_4  SSB_1  SSB_2  SSB_3  SSB_4  \n",
      "0   3.24   6.25  16.81   7.29  18.49  \n",
      "1  23.04   6.25  16.81   7.29  18.49  \n",
      "2   3.24   6.25  16.81   7.29  18.49  \n",
      "3  84.64   6.25  16.81   7.29  18.49  \n",
      "4   0.64   6.25  16.81   7.29  18.49  \n"
     ]
    }
   ],
   "source": [
    "performances_df[\"SSB_1\"] = (means_of_samples[\"oil1\"]-____)**2\n",
    "performances_df[\"SSB_2\"] = (means_of_samples[\"oil2\"]-____)**2\n",
    "performances_df[\"SSB_3\"] = (means_of_samples[\"oil3\"]-____)**2\n",
    "performances_df[\"SSB_4\"] = (means_of_samples[\"oil4\"]-____)**2\n",
    "\n",
    "SSB = np.sum(performances_df[[\"SSB_1\", \"SSB_2\", \"SSB_3\", \"SSB_4\"]].sum(axis=\"index\"))\n",
    "\n",
    "print(SSB)\n",
    "print(performances_df)"
   ]
  },
  {
   "cell_type": "markdown",
   "id": "95d5fe28",
   "metadata": {},
   "source": [
    "### F - Statistic"
   ]
  },
  {
   "cell_type": "code",
   "execution_count": 7,
   "id": "31af6a5b",
   "metadata": {},
   "outputs": [
    {
     "name": "stdout",
     "output_type": "stream",
     "text": [
      "4.625000000000004\n"
     ]
    }
   ],
   "source": [
    "# number of measurements per group\n",
    "n = 5\n",
    "\n",
    "# number of groups compared\n",
    "m = 4\n",
    "\n",
    "#    variance between / variance within\n",
    "#    a large F indicates a differce between the means in the populations\n",
    "F = (___ / (m-1))/(___ / (m * (n-1)))\n",
    "\n",
    "print(F)\n"
   ]
  },
  {
   "cell_type": "markdown",
   "id": "3fb6c6de",
   "metadata": {},
   "source": [
    "### Conclusion"
   ]
  },
  {
   "cell_type": "code",
   "execution_count": 8,
   "id": "d35f3826",
   "metadata": {},
   "outputs": [
    {
     "name": "stdout",
     "output_type": "stream",
     "text": [
      "0.016336459839780187\n"
     ]
    }
   ],
   "source": [
    "from scipy.stats import f\n",
    "\n",
    "p_value = f.sf(____, m-1, m * (n-1))\n",
    "\n",
    "print(p_value)"
   ]
  },
  {
   "cell_type": "markdown",
   "id": "d56dd359",
   "metadata": {},
   "source": [
    "#### The p value is less than 0.05, so we may reject the null hypothesis with a significance level of 0.05"
   ]
  },
  {
   "cell_type": "markdown",
   "id": "5e5e9d95",
   "metadata": {},
   "source": [
    "### Tip! we could have done it in 5 lines of code as well"
   ]
  },
  {
   "cell_type": "code",
   "execution_count": 9,
   "id": "f8ad19f1",
   "metadata": {},
   "outputs": [
    {
     "data": {
      "text/plain": [
       "F_onewayResult(statistic=4.625000000000002, pvalue=0.016336459839780215)"
      ]
     },
     "execution_count": 9,
     "metadata": {},
     "output_type": "execute_result"
    }
   ],
   "source": [
    "\n",
    "from scipy.stats import f_oneway\n",
    " \n",
    "performance1 = [89, 89, 88, 78, 79]\n",
    "performance2 = [93, 92, 94, 89, 88]\n",
    "performance3 = [89, 88, 89, 93, 90]\n",
    "performance4 = [81, 78, 81, 92, 82]\n",
    " \n",
    "f_oneway(performance1, performance2, performance3, performance4)\n"
   ]
  },
  {
   "cell_type": "markdown",
   "id": "d39a312c",
   "metadata": {},
   "source": [
    "data from: https://www.geeksforgeeks.org/how-to-perform-a-one-way-anova-in-python/\n",
    " "
   ]
  }
 ],
 "metadata": {
  "kernelspec": {
   "display_name": "Python 3 (ipykernel)",
   "language": "python",
   "name": "python3"
  },
  "language_info": {
   "codemirror_mode": {
    "name": "ipython",
    "version": 3
   },
   "file_extension": ".py",
   "mimetype": "text/x-python",
   "name": "python",
   "nbconvert_exporter": "python",
   "pygments_lexer": "ipython3",
   "version": "3.11.5"
  }
 },
 "nbformat": 4,
 "nbformat_minor": 5
}
